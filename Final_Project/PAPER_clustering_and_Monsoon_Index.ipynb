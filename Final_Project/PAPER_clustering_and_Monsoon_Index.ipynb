{
 "cells": [
  {
   "cell_type": "code",
   "execution_count": 1,
   "metadata": {
    "collapsed": true
   },
   "outputs": [],
   "source": [
    "#%matplotlib notebook\n",
    "%matplotlib qt\n",
    "\n",
    "#This notebook is a testbed for importing PEAC Center USAPI\n",
    "#raifnall data using pandas and doing some quick analysis\n",
    "\n",
    "import pandas as pd\n",
    "\n",
    "import matplotlib as mpl\n",
    "import matplotlib.pyplot as plt\n",
    "import matplotlib.colors as cols\n",
    "import matplotlib.cm as cm\n",
    "\n",
    "from mpl_toolkits.basemap import Basemap, shiftgrid\n",
    "\n",
    "import numpy as np\n",
    "import numpy.ma as ma\n",
    "\n",
    "from datetime import date\n",
    "import datetime\n",
    "\n",
    "import calendar\n",
    "\n",
    "from netCDF4 import Dataset\n",
    "\n",
    "from scipy import signal, linalg, stats\n",
    "\n",
    "from pycurrents.codas import to_day, to_date\n",
    "from pycurrents.plot.mpltools import dday_to_mpl\n",
    "\n",
    "from pycurrents.system import Bunch\n",
    "from pycurrents.num import eof\n",
    "from pycurrents.num import rangeslice\n",
    "\n",
    "import pickle\n",
    "\n",
    "from scipy.special import comb"
   ]
  },
  {
   "cell_type": "code",
   "execution_count": 2,
   "metadata": {
    "collapsed": false
   },
   "outputs": [
    {
     "name": "stdout",
     "output_type": "stream",
     "text": [
      "['Sheet1', 'Sheet2', 'Sheet3']\n"
     ]
    }
   ],
   "source": [
    "station_rain = pd.ExcelFile('Station_Monthly_data.xlsx')\n",
    "print(station_rain.sheet_names)"
   ]
  },
  {
   "cell_type": "code",
   "execution_count": 3,
   "metadata": {
    "collapsed": false
   },
   "outputs": [
    {
     "name": "stdout",
     "output_type": "stream",
     "text": [
      "           Country      Station Name         MI\n",
      "0              FSM    Kapingamarangi  -9.687959\n",
      "1              FSM     Kosrae Int AP  -8.468269\n",
      "2              FSM          Lukunoch   4.829525\n",
      "3              FSM         Metalanim   4.592416\n",
      "4              FSM       Mokil Atoll   9.907702\n",
      "5              FSM           Nukuoro  -8.320764\n",
      "6              FSM                Oa  -0.550055\n",
      "7              FSM       Paies-Kitti   8.494121\n",
      "8              FSM           Palikir   1.166412\n",
      "9              FSM          Pingelap   0.376868\n",
      "10             FSM           Polowat  10.706327\n",
      "11             FSM          Tufunsak -11.040146\n",
      "12             FSM             Tofol  -9.252600\n",
      "13             FSM            Ulithi  33.301242\n",
      "14             FSM              Utwa  -6.410120\n",
      "15             FSM            Woleai  14.536082\n",
      "16       Marshalls     Ailinglapalap  14.749826\n",
      "17       Marshalls              Arno   9.362520\n",
      "18       Marshalls          Eniwetok  42.882188\n",
      "19       Marshalls            Jaluit   5.783512\n",
      "20       Marshalls             Laura  14.525969\n",
      "21       Marshalls              Mili   3.829390\n",
      "22       Marshalls            Utirik  37.277354\n",
      "23       Marshalls             Wotje  28.758578\n",
      "24        Marianas    Capitol Hill 1  39.567669\n",
      "25        Marianas              Rota  27.358590\n",
      "26        Marianas           Rota AP  39.368152\n",
      "27        Marianas     Saipan Int AP  48.136646\n",
      "28        Marianas      Saipan Loran  40.774749\n",
      "29        Marianas            Tinian  48.474906\n",
      "30           Palau            Anguar  13.773570\n",
      "31           Palau   Nekken Forestry  15.598163\n",
      "32           Palau  Ngasang Babelthu  17.129485\n",
      "33           Palau           Peleliu   4.971945\n",
      "34  Minor US Islnd       Wake Island  38.487973\n",
      "35      Major PEAC              Guam  44.157543\n",
      "36      Major PEAC             Koror  15.735224\n",
      "37      Major PEAC               Yap  33.442830\n",
      "38      Major PEAC             Chuuk   7.356914\n",
      "39      Major PEAC           Pohnpei  -1.807341\n",
      "40      Major PEAC            Majuro  13.623488\n",
      "41      Major PEAC         Kwajalein  38.079769\n"
     ]
    }
   ],
   "source": [
    "raw_data= pd.read_excel(station_rain, sheetname = 'Sheet1', skiprows = 0, parse_cols = \"A:T\")\n",
    "print(raw_data.loc[:,['Country','Station Name','MI']])\n",
    "#print(raw_data.loc[:,'Lon'])"
   ]
  },
  {
   "cell_type": "code",
   "execution_count": 4,
   "metadata": {
    "collapsed": false
   },
   "outputs": [
    {
     "name": "stdout",
     "output_type": "stream",
     "text": [
      "       Country Station Name         MI  cluster  Sil Score\n",
      "35  Major PEAC         Guam  44.157543        0   0.380047\n",
      "36  Major PEAC        Koror  15.735224        2   0.425674\n",
      "37  Major PEAC          Yap  33.442830        2   0.106408\n",
      "38  Major PEAC        Chuuk   7.356914        2   0.603715\n",
      "39  Major PEAC      Pohnpei  -1.807341        1   0.430499\n",
      "40  Major PEAC       Majuro  13.623488        2   0.546848\n",
      "41  Major PEAC    Kwajalein  38.079769        0   0.421440\n",
      "       Country Station Name         MI  cluster 2  Sil Score 2\n",
      "35  Major PEAC         Guam  44.157543          0     0.528993\n",
      "36  Major PEAC        Koror  15.735224          1     0.383563\n",
      "37  Major PEAC          Yap  33.442830          0     0.304675\n",
      "38  Major PEAC        Chuuk   7.356914          1     0.274054\n",
      "39  Major PEAC      Pohnpei  -1.807341          1     0.544753\n",
      "40  Major PEAC       Majuro  13.623488          1     0.128883\n",
      "41  Major PEAC    Kwajalein  38.079769          0     0.576223\n",
      "       Country Station Name         MI  cluster 4  Sil Score 4\n",
      "35  Major PEAC         Guam  44.157543          3     0.558393\n",
      "36  Major PEAC        Koror  15.735224          1     0.431426\n",
      "37  Major PEAC          Yap  33.442830          3     0.230924\n",
      "38  Major PEAC        Chuuk   7.356914          1     0.530903\n",
      "39  Major PEAC      Pohnpei  -1.807341          0     0.417782\n",
      "40  Major PEAC       Majuro  13.623488          1     0.434014\n",
      "41  Major PEAC    Kwajalein  38.079769          3     0.152712\n"
     ]
    }
   ],
   "source": [
    "from sklearn.cluster import KMeans\n",
    "from sklearn.metrics import silhouette_samples\n",
    "\n",
    "data = raw_data.loc[:,['Jan','Feb','Mar','Apr','May','Jun','Jul','Aug','Sep','Oct','Nov','Dec']]\n",
    "\n",
    "s_kmeans = KMeans(n_clusters=3).fit(data)\n",
    "silh_samp_vals = silhouette_samples(data,s_kmeans.labels_)\n",
    "raw_data['cluster'] = s_kmeans.labels_\n",
    "raw_data['Sil Score'] = silh_samp_vals\n",
    "print(raw_data.loc[35:42,['Country','Station Name','MI','cluster', 'Sil Score']])\n",
    "\n",
    "s_kmeans_2 = KMeans(n_clusters=2).fit(data)\n",
    "silh_samp_vals_2 = silhouette_samples(data,s_kmeans_2.labels_)\n",
    "raw_data['cluster 2'] = s_kmeans_2.labels_\n",
    "raw_data['Sil Score 2'] = silh_samp_vals_2\n",
    "print(raw_data.loc[35:42,['Country','Station Name','MI','cluster 2', 'Sil Score 2']])\n",
    "\n",
    "s_kmeans_4 = KMeans(n_clusters=4).fit(data)\n",
    "silh_samp_vals_4 = silhouette_samples(data,s_kmeans_4.labels_)\n",
    "raw_data['cluster 4'] = s_kmeans_4.labels_\n",
    "raw_data['Sil Score 4'] = silh_samp_vals_4\n",
    "print(raw_data.loc[35:42,['Country','Station Name','MI','cluster 4', 'Sil Score 4']])"
   ]
  },
  {
   "cell_type": "code",
   "execution_count": 21,
   "metadata": {
    "collapsed": false
   },
   "outputs": [],
   "source": [
    "import math\n",
    "\n",
    "def DB_index(centroids,points,list_index,k):\n",
    "    #Taken from ICS 365 Kmeans developed by G. Picot\n",
    "    list_diameter=[]   \n",
    "    for j in range(0,k):\n",
    "        indeces=np.where(np.asarray(list_index)==j)[0]\n",
    "        diameter=math.sqrt(sum(np.linalg.norm(points[indeces]- centroids[j,:],axis=1)**2)/len(indeces))\n",
    "        list_diameter.append(diameter)\n",
    "    Matrix_DB= np.zeros([k,k])\n",
    "    for i in range(0,k):\n",
    "        for j in range(0,i-1):\n",
    "            Matrix_DB[i,j]=(list_diameter[i]+list_diameter[j])/(np.linalg.norm(centroids[i,:]-centroids[j,:]))\n",
    "        for j in range(i+1,k):\n",
    "            Matrix_DB[i,j]=(list_diameter[i]+list_diameter[j])/(np.linalg.norm(centroids[i,:]-centroids[j,:])) \n",
    "\n",
    "    DB=sum(np.amax(Matrix_DB, axis=1))/k\n",
    "\n",
    "    return DB"
   ]
  },
  {
   "cell_type": "code",
   "execution_count": 41,
   "metadata": {
    "collapsed": false
   },
   "outputs": [
    {
     "name": "stdout",
     "output_type": "stream",
     "text": [
      "(42,)\n"
     ]
    }
   ],
   "source": [
    "DB_index_values = np.empty([len(data)])\n",
    "DB_index_values = np.NaN*DB_index_values\n",
    "print(np.shape(DB_index_values))\n",
    "for k in range(2,len(data)):\n",
    "    s_km = KMeans(n_clusters=k).fit(data)\n",
    "    centroids = s_km.cluster_centers_\n",
    "    points = pd.DataFrame.as_matrix(data)\n",
    "    list_index = s_km.labels_\n",
    "\n",
    "    DB_index_values[k] = DB_index(centroids, points, list_index,k)"
   ]
  },
  {
   "cell_type": "code",
   "execution_count": 42,
   "metadata": {
    "collapsed": false
   },
   "outputs": [
    {
     "data": {
      "text/plain": [
       "[<matplotlib.lines.Line2D at 0x7fe9c4fc5b00>]"
      ]
     },
     "execution_count": 42,
     "metadata": {},
     "output_type": "execute_result"
    }
   ],
   "source": [
    "plt.plot(DB_index_values)"
   ]
  },
  {
   "cell_type": "code",
   "execution_count": 7,
   "metadata": {
    "collapsed": false
   },
   "outputs": [
    {
     "name": "stdout",
     "output_type": "stream",
     "text": [
      "<class 'numpy.ndarray'> (50,)\n",
      "<class 'numpy.ndarray'> (30,)\n",
      "<class 'numpy.ndarray'> (30, 50)\n"
     ]
    }
   ],
   "source": [
    "from scipy.interpolate import griddata\n",
    "\n",
    "xi = np.arange(130,180,1)\n",
    "yi = np.arange(-5,25,1)\n",
    "\n",
    "mi_gridded = griddata((raw_data.loc[:,'Lon'].tolist(),raw_data.loc[:,'Lat'].tolist()),\n",
    "                      raw_data.loc[:,'MI'].tolist(),\n",
    "                      (xi[None,:],yi[:,None]))\n",
    "\n",
    "print(type(xi),np.shape(xi))\n",
    "print(type(yi),np.shape(yi))\n",
    "print(type(mi_gridded),np.shape(mi_gridded))"
   ]
  },
  {
   "cell_type": "code",
   "execution_count": 9,
   "metadata": {
    "collapsed": false
   },
   "outputs": [
    {
     "name": "stderr",
     "output_type": "stream",
     "text": [
      "/home/alejandro/anaconda3/lib/python3.5/site-packages/mpl_toolkits/basemap/__init__.py:3542: VisibleDeprecationWarning: using a non-integer number instead of an integer will result in an error in the future\n",
      "  xx = x[x.shape[0]/2,:]\n"
     ]
    }
   ],
   "source": [
    "season_list = ['DJF' , 'JFM' , 'FMA',\n",
    "               'MAM' , 'AMJ' , 'MJJ',\n",
    "               'JJA' , 'JAS' , 'ASO',\n",
    "               'SON' , 'OND' , 'NDJ']\n",
    "\n",
    "month_list = ['Jan' , 'Feb' , 'Mar',\n",
    "              'Apr' , 'May' , 'Jun',\n",
    "              'Jul' , 'Aug' , 'Sep',\n",
    "              'Oct' , 'Nov' , 'Dec']\n",
    "\n",
    "\n",
    "plt.rcParams['figure.dpi'] = 113\n",
    "plt.rcParams['axes.titlesize'] = 'small'\n",
    "plt.rcParams['ytick.labelsize'] = 'small'  # for colorbar\n",
    "\n",
    "gmap = Basemap(projection='merc', llcrnrlat=-5.1, urcrnrlat=20.01,\n",
    "                    llcrnrlon=130, urcrnrlon=175.5, lat_ts=0, resolution='c')\n",
    "\n",
    "\n",
    "with open('mapcache.pk', mode='wb') as f:\n",
    "    pickle.dump(gmap, f)\n",
    "    \n",
    "subplotparams = dict(left=0.03, right=0.88,\n",
    "                     bottom=0.03, top=0.96,\n",
    "                     wspace=0.05, hspace=0.2)\n",
    "\n",
    "fig, axs = plt.subplots(#sharex=True,\n",
    "                        figsize=(13, 7.8),\n",
    "                        gridspec_kw=subplotparams)\n",
    "\n",
    "with open('mapcache.pk', 'rb') as f:\n",
    "    gmap = pickle.load(f)\n",
    "gmap.ax = axs\n",
    "\n",
    "gmap.drawmapboundary(fill_color='aqua')\n",
    "gmap.fillcontinents(color='coral', lake_color='aqua')\n",
    "\n",
    "cmap = plt.get_cmap('jet')\n",
    "bounds = [-0.5, 0.5, 1.5, 2.5]\n",
    "norm = mpl.colors.BoundaryNorm(bounds, cmap.N)\n",
    "\n",
    "# x, y = gmap(*np.meshgrid(gpcp_precip_longitudes, gpcp_precip_latitudes))\n",
    "# im = gmap.contourf(x, y, gpcp_anom_selection, levels=bounds, cmap=cmap, extend ='both')\n",
    "\n",
    "X, Y = gmap(raw_data.loc[:,'Lon'].tolist(), raw_data.loc[:,'Lat'].tolist())\n",
    "scalar_map = cm.ScalarMappable(cmap=cmap)\n",
    "scalar_map.set_array(s_kmeans.labels_)\n",
    "\n",
    "#draw_map(gmap, ax=axs[1])\n",
    "cs = gmap.scatter(X, Y, c=s_kmeans.labels_, \n",
    "              cmap=cmap, marker='o',\n",
    "              s = 50, norm=norm)\n",
    "              #vmin = -2.5, vmax = 2.5)\n",
    "    \n",
    "for station, sil, x, y in zip(raw_data.loc[:,'Station Name'].tolist(), raw_data.loc[:,'Sil Score'].tolist(),\n",
    "                         raw_data.loc[:,'Lon'].tolist(), raw_data.loc[:,'Lat'].tolist()):\n",
    "    \n",
    "    stations_to_label = ['Kwajalein', 'Majuro', \n",
    "                         'Koror', 'Yap', 'Chuuk', 'Pohnpei','Kosrae Int AP',\n",
    "                         'Saipan Int AP', 'Guam',\n",
    "                         'Eniwetok', 'Utirik', 'Wotje']\n",
    "    \n",
    "    if station in stations_to_label:\n",
    "        sil_str = \"{:.4}\".format(str(sil))\n",
    "        plt.annotate(station+' ('+sil_str+')',xy=gmap(x,y), xytext =gmap(x-1,y+0.5),\n",
    "        textcoords = 'data', \n",
    "        ha = 'right', va='bottom', fontsize = 8,\n",
    "        bbox = dict(facecolor = 'white',alpha=0.7)     ,        \n",
    "        arrowprops = dict(arrowstyle = '->', connectionstyle = 'arc3,rad=0'))\n",
    "    \n",
    "#hgt_bounds = np.arange(-40,40,1)\n",
    "hgt_bounds = np.arange(0,100,10)\n",
    "hgt_bounds_MI_threswold = [50]\n",
    "\n",
    "x_hgt, y_hgt = gmap(*np.meshgrid(xi, yi))\n",
    "\n",
    "im_hgt = gmap.contour(x_hgt, y_hgt, mi_gridded, \n",
    "                      levels=hgt_bounds,\n",
    "                      linewidths=0.5, colors='k')\n",
    "plt.clabel(im_hgt,fontsize=9,inline=1,fmt='%1.0f')\n",
    "\n",
    "im_hgt_25 = gmap.contour(x_hgt, y_hgt, mi_gridded, \n",
    "                      levels=hgt_bounds_MI_threswold,\n",
    "                      linewidths=1, colors='k')\n",
    "plt.clabel(im_hgt_25,fontsize=9,inline=1,fmt='%1.0f')\n",
    "# im_hgt = gmap.contour(X, Y, raw_data.loc[:,'MI'].tolist(), levels=hgt_bounds,\n",
    "#                    linewidths=0.5, colors='k')\n",
    "    \n",
    "gmap.drawcoastlines()\n",
    "parallels = np.arange(-90, 90, 10)\n",
    "meridians = np.arange(-180, 180, 10)\n",
    "\n",
    "gmap.drawparallels(parallels, labels = [1, 0, 0, 1], fontsize=8)\n",
    "gmap.drawmeridians(meridians, labels = [1, 0, 0, 1], fontsize=8)\n",
    "\n",
    "\n",
    "left = subplotparams['right'] + 0.02\n",
    "bottom = subplotparams['bottom'] + 0.05\n",
    "width = 0.015\n",
    "height = subplotparams['top'] - subplotparams['bottom'] - 0.1\n",
    "\n",
    "cax = fig.add_axes([left, bottom, width, height])\n",
    "cb = plt.colorbar(cs, cax=cax, extend ='neither')\n",
    "cb.set_ticks(np.array([0,1,2]), update_ticks=True)\n",
    "cb.set_ticklabels(['0','1','2'], update_ticks=True)\n",
    "cb.update_ticks()\n",
    "cb.set_label('Cluster')\n",
    "fig.savefig('cluster_map.pdf')"
   ]
  },
  {
   "cell_type": "code",
   "execution_count": 11,
   "metadata": {
    "collapsed": false
   },
   "outputs": [
    {
     "name": "stderr",
     "output_type": "stream",
     "text": [
      "/home/alejandro/anaconda3/lib/python3.5/site-packages/mpl_toolkits/basemap/__init__.py:3542: VisibleDeprecationWarning: using a non-integer number instead of an integer will result in an error in the future\n",
      "  xx = x[x.shape[0]/2,:]\n"
     ]
    }
   ],
   "source": [
    "season_list = ['DJF' , 'JFM' , 'FMA',\n",
    "               'MAM' , 'AMJ' , 'MJJ',\n",
    "               'JJA' , 'JAS' , 'ASO',\n",
    "               'SON' , 'OND' , 'NDJ']\n",
    "\n",
    "month_list = ['Jan' , 'Feb' , 'Mar',\n",
    "              'Apr' , 'May' , 'Jun',\n",
    "              'Jul' , 'Aug' , 'Sep',\n",
    "              'Oct' , 'Nov' , 'Dec']\n",
    "\n",
    "\n",
    "plt.rcParams['figure.dpi'] = 113\n",
    "plt.rcParams['axes.titlesize'] = 'small'\n",
    "plt.rcParams['ytick.labelsize'] = 'small'  # for colorbar\n",
    "\n",
    "gmap = Basemap(projection='merc', llcrnrlat=-5.1, urcrnrlat=20.01,\n",
    "                    llcrnrlon=130, urcrnrlon=175.5, lat_ts=0, resolution='c')\n",
    "\n",
    "\n",
    "with open('mapcache.pk', mode='wb') as f:\n",
    "    pickle.dump(gmap, f)\n",
    "    \n",
    "subplotparams = dict(left=0.03, right=0.88,\n",
    "                     bottom=0.03, top=0.96,\n",
    "                     wspace=0.05, hspace=0.2)\n",
    "\n",
    "fig, axs = plt.subplots(#sharex=True,\n",
    "                        figsize=(13, 7.8),\n",
    "                        gridspec_kw=subplotparams)\n",
    "\n",
    "with open('mapcache.pk', 'rb') as f:\n",
    "    gmap = pickle.load(f)\n",
    "gmap.ax = axs\n",
    "\n",
    "gmap.drawmapboundary(fill_color='aqua')\n",
    "gmap.fillcontinents(color='coral', lake_color='aqua')\n",
    "\n",
    "cmap = plt.get_cmap('jet')\n",
    "bounds = [-0.5, 0.5, 1.5]\n",
    "norm = mpl.colors.BoundaryNorm(bounds, cmap.N)\n",
    "\n",
    "# x, y = gmap(*np.meshgrid(gpcp_precip_longitudes, gpcp_precip_latitudes))\n",
    "# im = gmap.contourf(x, y, gpcp_anom_selection, levels=bounds, cmap=cmap, extend ='both')\n",
    "\n",
    "X, Y = gmap(raw_data.loc[:,'Lon'].tolist(), raw_data.loc[:,'Lat'].tolist())\n",
    "scalar_map = cm.ScalarMappable(cmap=cmap)\n",
    "scalar_map.set_array(s_kmeans_2.labels_)\n",
    "\n",
    "#draw_map(gmap, ax=axs[1])\n",
    "cs = gmap.scatter(X, Y, c=s_kmeans_2.labels_, \n",
    "              cmap=cmap, marker='o',\n",
    "              s = 50, norm=norm)\n",
    "              #vmin = -2.5, vmax = 2.5)\n",
    "    \n",
    "for station, sil, x, y in zip(raw_data.loc[:,'Station Name'].tolist(), raw_data.loc[:,'Sil Score 2'].tolist(),\n",
    "                         raw_data.loc[:,'Lon'].tolist(), raw_data.loc[:,'Lat'].tolist()):\n",
    "    \n",
    "    stations_to_label = ['Kwajalein', 'Majuro', \n",
    "                         'Koror', 'Yap', 'Chuuk', 'Pohnpei','Kosrae Int AP',\n",
    "                         'Saipan Int AP', 'Guam',\n",
    "                         'Eniwetok', 'Utirik', 'Wotje']\n",
    "    \n",
    "    if station in stations_to_label:\n",
    "        sil_str = \"{:.4}\".format(str(sil))\n",
    "        plt.annotate(station+' ('+sil_str+')',xy=gmap(x,y), xytext =gmap(x-1,y+0.5),\n",
    "        textcoords = 'data', \n",
    "        ha = 'right', va='bottom', fontsize = 8,\n",
    "        bbox = dict(facecolor = 'white',alpha=0.7)     ,        \n",
    "        arrowprops = dict(arrowstyle = '->', connectionstyle = 'arc3,rad=0'))\n",
    "    \n",
    "#hgt_bounds = np.arange(-40,40,1)\n",
    "hgt_bounds = np.arange(0,100,10)\n",
    "hgt_bounds_MI_threswold = [50]\n",
    "\n",
    "x_hgt, y_hgt = gmap(*np.meshgrid(xi, yi))\n",
    "\n",
    "im_hgt = gmap.contour(x_hgt, y_hgt, mi_gridded, \n",
    "                      levels=hgt_bounds,\n",
    "                      linewidths=0.5, colors='k')\n",
    "plt.clabel(im_hgt,fontsize=9,inline=1,fmt='%1.0f')\n",
    "\n",
    "im_hgt_25 = gmap.contour(x_hgt, y_hgt, mi_gridded, \n",
    "                      levels=hgt_bounds_MI_threswold,\n",
    "                      linewidths=1, colors='k')\n",
    "plt.clabel(im_hgt_25,fontsize=9,inline=1,fmt='%1.0f')\n",
    "# im_hgt = gmap.contour(X, Y, raw_data.loc[:,'MI'].tolist(), levels=hgt_bounds,\n",
    "#                    linewidths=0.5, colors='k')\n",
    "    \n",
    "gmap.drawcoastlines()\n",
    "parallels = np.arange(-90, 90, 10)\n",
    "meridians = np.arange(-180, 180, 10)\n",
    "\n",
    "gmap.drawparallels(parallels, labels = [1, 0, 0, 1], fontsize=8)\n",
    "gmap.drawmeridians(meridians, labels = [1, 0, 0, 1], fontsize=8)\n",
    "\n",
    "\n",
    "left = subplotparams['right'] + 0.02\n",
    "bottom = subplotparams['bottom'] + 0.05\n",
    "width = 0.015\n",
    "height = subplotparams['top'] - subplotparams['bottom'] - 0.1\n",
    "\n",
    "cax = fig.add_axes([left, bottom, width, height])\n",
    "cb = plt.colorbar(cs, cax=cax, extend ='neither')\n",
    "cb.set_ticks(np.array([0,1]), update_ticks=True)\n",
    "cb.set_ticklabels(['0','1'], update_ticks=True)\n",
    "cb.update_ticks()\n",
    "cb.set_label('Cluster')\n",
    "fig.savefig('2_cluster_map.pdf')"
   ]
  },
  {
   "cell_type": "code",
   "execution_count": null,
   "metadata": {
    "collapsed": true
   },
   "outputs": [],
   "source": []
  }
 ],
 "metadata": {
  "kernelspec": {
   "display_name": "Python 3",
   "language": "python",
   "name": "python3"
  },
  "language_info": {
   "codemirror_mode": {
    "name": "ipython",
    "version": 3
   },
   "file_extension": ".py",
   "mimetype": "text/x-python",
   "name": "python",
   "nbconvert_exporter": "python",
   "pygments_lexer": "ipython3",
   "version": "3.5.2"
  }
 },
 "nbformat": 4,
 "nbformat_minor": 0
}
