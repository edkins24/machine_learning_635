{
 "cells": [
  {
   "cell_type": "code",
   "execution_count": 1,
   "metadata": {
    "collapsed": false
   },
   "outputs": [],
   "source": [
    "%matplotlib inline\n",
    "import numpy as np\n",
    "import random as rm\n",
    "import math\n",
    "import matplotlib.pyplot as plt\n",
    "import statistics as stat"
   ]
  },
  {
   "cell_type": "markdown",
   "metadata": {},
   "source": [
    "### copied from aludert's data faker"
   ]
  },
  {
   "cell_type": "code",
   "execution_count": 2,
   "metadata": {
    "collapsed": true
   },
   "outputs": [],
   "source": [
    "def data_faker_2(N, m, b, c=1, gamma=0.0000001, rand_div = 'yes'):\n",
    "    \n",
    "    if rand_div == 'yes':\n",
    "        \n",
    "        cosine_sign_choice = rm.random()\n",
    "        \n",
    "        if cosine_sign_choice < 0.5:\n",
    "            cosine_sign = -1\n",
    "        else:\n",
    "            cosine_sign = 1\n",
    "            \n",
    "        cosine = cosine_sign * rm.random()\n",
    "        \n",
    "        angle = math.acos(cosine)\n",
    "        \n",
    "        m = math.sin(angle)/math.cos(angle)\n",
    "        \n",
    "        intercep_sign_choice = rm.random()\n",
    "        \n",
    "        if intercep_sign_choice < 0.5:\n",
    "            b_sign = -1\n",
    "        else:\n",
    "            b_sign = 1\n",
    "            \n",
    "        b = b_sign * rm.random()\n",
    "    \n",
    "    alpha = math.atan(m)\n",
    "    bd = gamma / math.cos(alpha)\n",
    "    \n",
    "    if 0<=abs(alpha)<45:\n",
    "        gamma_max = (1/math.cos(alpha))*c\n",
    "    elif 45<=abs(alpha)<90:\n",
    "        gamma_max = (1/math.sin(alpha))*c\n",
    "        \n",
    "    points = np.empty([N,3])\n",
    "        \n",
    "    if gamma > gamma_max:\n",
    "        print('gamma is greater than allowed gamma_max for this slope')\n",
    "        return points, m, b\n",
    "    \n",
    "    for i in range(N):\n",
    "        \n",
    "        good = 0\n",
    "        \n",
    "        while good == 0:\n",
    "        \n",
    "            x_sign_choice = rm.random()\n",
    "\n",
    "            if x_sign_choice < 0.5:\n",
    "                x_sign = -1\n",
    "            else:\n",
    "                x_sign = 1\n",
    "\n",
    "            x_i = x_sign * rm.random() *c\n",
    "            #---------------------------------------\n",
    "\n",
    "            y_sign_choice = rm.random()\n",
    "\n",
    "            if y_sign_choice < 0.5:\n",
    "                y_sign = -1\n",
    "            else:\n",
    "                y_sign = 1\n",
    "\n",
    "            y_i = y_sign * rm.random() *c\n",
    "            #----------------------------------------\n",
    "            \n",
    "            if y_i < m*x_i+b:\n",
    "                l_i = 1\n",
    "            elif y_i > m*x_i+b:\n",
    "                l_i = -1\n",
    "            \n",
    "            if l_i == 1 and y_i < m*x_i+(b-bd):\n",
    "                good = 1\n",
    "            elif l_i ==-1 and y_i > m*x_i+(b+bd):\n",
    "                good = 1\n",
    "                \n",
    "        points[i,0] = x_i\n",
    "        points[i,1] = y_i\n",
    "        points[i,2] = l_i\n",
    "         \n",
    "    return points, m, b"
   ]
  },
  {
   "cell_type": "markdown",
   "metadata": {},
   "source": [
    "### test function"
   ]
  },
  {
   "cell_type": "code",
   "execution_count": 3,
   "metadata": {
    "collapsed": true
   },
   "outputs": [],
   "source": [
    "step_function = lambda f: -1 if f <= 0 else 1"
   ]
  },
  {
   "cell_type": "markdown",
   "metadata": {},
   "source": [
    "### Perceptron algorithm"
   ]
  },
  {
   "cell_type": "code",
   "execution_count": 4,
   "metadata": {
    "collapsed": true
   },
   "outputs": [],
   "source": [
    "def perceptron(points, w=(0,0,0), eta=0.5, n_iter=100, video='no', m=0, b=0, vid_dir = './vid'):\n",
    "    \n",
    "    test_training = np.ones([len(points),4])\n",
    "    test_training[:,1:] =  points\n",
    "    \n",
    "    misclassed = True\n",
    "    num_slope_adjusts = 0\n",
    "    n = 0\n",
    "    num_points_tested = 0\n",
    "    slope = 0\n",
    "    intercept = 0\n",
    "    \n",
    "    while (misclassed and n < n_iter):\n",
    "        n += 1\n",
    "        wrong_line = 0\n",
    "        \n",
    "        for test_val in test_training:\n",
    "            point = test_val[:3]\n",
    "            desired = test_val[3]\n",
    "            result = np.dot(w, point)\n",
    "            f = step_function(result)\n",
    "            num_points_tested += 1\n",
    "            \n",
    "            if f != desired:\n",
    "                wrong_line += 1\n",
    "                num_slope_adjusts += 1\n",
    "                w += eta * desired * point\n",
    "                \n",
    "                if w[2] != 0:\n",
    "                    slope = -(w[1] / w[2])\n",
    "                    intercept = -(w[0] / w[2])\n",
    "                else:\n",
    "                    slope = 0\n",
    "                    intercept = 0\n",
    "                \n",
    "                if video == 'yes':\n",
    "                        scatter_plot_vid(points, m, b, \n",
    "                                         slope, intercept, \n",
    "                                         num_points_tested, vid_dir = './vid')\n",
    "        \n",
    "        if wrong_line == 0: \n",
    "            misclassed = False\n",
    "\n",
    "        \n",
    "    return slope, intercept, n, num_slope_adjusts"
   ]
  },
  {
   "cell_type": "markdown",
   "metadata": {},
   "source": [
    "### Theoretical maximum time-to-convergence, as measured by number of adjustments to the weight vector"
   ]
  },
  {
   "cell_type": "code",
   "execution_count": 5,
   "metadata": {
    "collapsed": true
   },
   "outputs": [],
   "source": [
    "def theoretical_function(w, gamma, c=10):\n",
    "    #number of weight vector adjustments = n\n",
    "    n_max = w*w*c*c/(gamma*gamma)\n",
    "    return n_max"
   ]
  },
  {
   "cell_type": "markdown",
   "metadata": {},
   "source": [
    "### Theoretical dependence on length of the final weight vector, AS MEASURED BY LEARNING RATE (which scales the weight vector)\n",
    "### Resulting plot does NOT agree with experimentally derived dependence on eta (see Exp 2)"
   ]
  },
  {
   "cell_type": "code",
   "execution_count": 6,
   "metadata": {
    "collapsed": false
   },
   "outputs": [
    {
     "data": {
      "text/plain": [
       "[<matplotlib.lines.Line2D at 0x7f4a97564748>]"
      ]
     },
     "execution_count": 6,
     "metadata": {},
     "output_type": "execute_result"
    },
    {
     "data": {
      "image/png": "[encoded data removed]",
      "text/plain": [
       "<matplotlib.figure.Figure at 0x7f4a99ad0eb8>"
      ]
     },
     "metadata": {},
     "output_type": "display_data"
    }
   ],
   "source": [
    "x_dummy = np.arange(0.1, 1.1, 0.1)\n",
    "y_dummy = np.empty(len(x_dummy))\n",
    "for i, x in enumerate(x_dummy):\n",
    "    y_dummy[i] = theoretical_function(x, 2)\n",
    "    #print(x_dummy[i], y_dummy[i])\n",
    "plt.plot(x_dummy, y_dummy)  "
   ]
  },
  {
   "cell_type": "markdown",
   "metadata": {},
   "source": [
    "### Exp 1: Number of weight vector adjustments vs Number of data points, N (eta=0.5, c=10)"
   ]
  },
  {
   "cell_type": "code",
   "execution_count": 7,
   "metadata": {
    "collapsed": false
   },
   "outputs": [
    {
     "data": {
      "text/plain": [
       "<matplotlib.text.Text at 0x7f4a970d71d0>"
      ]
     },
     "execution_count": 7,
     "metadata": {},
     "output_type": "execute_result"
    },
    {
     "data": {
      "image/png": "[encoded data removed]",
      "text/plain": [
       "<matplotlib.figure.Figure at 0x7f4a970c35f8>"
      ]
     },
     "metadata": {},
     "output_type": "display_data"
    }
   ],
   "source": [
    "N = 0\n",
    "N_list = []\n",
    "n_ave_list = []\n",
    "n_SDM_list = []\n",
    "i = 0\n",
    "num_trials = 1000\n",
    "for N in range(10, 1000, 100):\n",
    "    n_list = []\n",
    "    N_list.append(N)\n",
    "    for i in range(num_trials):\n",
    "        points, m, b = data_faker_2(N, 1, 0, c=10, rand_div='no')\n",
    "        p_m, p_b, k, n = perceptron(points)\n",
    "        n_list.append(n)\n",
    "        #scatter_plot(points, m, b)\n",
    "        #print(N, n)\n",
    "    n_ave = stat.mean(n_list)\n",
    "    n_SDM = stat.stdev(n_list) / math.sqrt(num_trials)\n",
    "    n_ave_list.append(n_ave)\n",
    "    n_SDM_list.append(n_SDM)\n",
    "    #print(N, n_ave, n_SDM)\n",
    "time_plot = plt.errorbar(N_list, n_ave_list, yerr=n_SDM_list, fmt='o', color='b')\n",
    "plt.title('')\n",
    "plt.xlabel('Number of data points')\n",
    "plt.ylabel('Number of weight vector adjustments')"
   ]
  },
  {
   "cell_type": "markdown",
   "metadata": {},
   "source": [
    "### Exp 2: Number of weight vector adjustments vs Learning rate, eta (c=10, N-10, 100 and 1000)"
   ]
  },
  {
   "cell_type": "code",
   "execution_count": 8,
   "metadata": {
    "collapsed": false
   },
   "outputs": [
    {
     "data": {
      "image/png": "[encoded data removed]",
      "text/plain": [
       "<matplotlib.figure.Figure at 0x7fca79c78080>"
      ]
     },
     "metadata": {},
     "output_type": "display_data"
    }
   ],
   "source": [
    "#perceptron(points, w=(0,0,0), eta=0.5, n_iter=100, video='no', m=0, b=0, vid_dir = './vid')\n",
    "num_trials = 100\n",
    "eta = 0\n",
    "eta_array = np.arange(0.1, 1.1, 0.1)\n",
    "i = 0\n",
    "\n",
    "N = 10\n",
    "n_ave_list_10 = []\n",
    "n_SDM_list_10 = []\n",
    "for eta in eta_array:\n",
    "    n_list = []\n",
    "    #eta_list.append(eta)\n",
    "    for i in range(num_trials):\n",
    "        points, m, b = data_faker_2(N, 1, 0, c=10, rand_div='no')\n",
    "        p_m, p_b, k, n = perceptron(points, eta=eta)\n",
    "        n_list.append(n)\n",
    "    n_ave = stat.mean(n_list)\n",
    "    n_SDM = stat.stdev(n_list) / math.sqrt(num_trials)\n",
    "    n_ave_list_10.append(n_ave)\n",
    "    n_SDM_list_10.append(n_SDM)\n",
    "N10_plot = plt.errorbar(eta_array, n_ave_list_10, yerr=n_SDM_list_10, fmt='o', color='r', label='N=10')\n",
    "plt.legend()\n",
    "  \n",
    "\n",
    "N = 100\n",
    "n_ave_list_100 = []\n",
    "n_SDM_list_100 = []\n",
    "for eta in eta_array:\n",
    "    n_list = []\n",
    "    #eta_list.append(eta)\n",
    "    for i in range(num_trials):\n",
    "        points, m, b = data_faker_2(N, 1, 0, c=10, rand_div='no')\n",
    "        p_m, p_b, k, n = perceptron(points, eta=eta)\n",
    "        n_list.append(n)\n",
    "    n_ave = stat.mean(n_list)\n",
    "    n_SDM = stat.stdev(n_list) / math.sqrt(num_trials)\n",
    "    n_ave_list_100.append(n_ave)\n",
    "    n_SDM_list_100.append(n_SDM)\n",
    "N100_plot = plt.errorbar(eta_array, n_ave_list_100, yerr=n_SDM_list_100, fmt='s', color='b', label='N=100')\n",
    "plt.legend()\n",
    "\n",
    "\n",
    "N = 1000\n",
    "n_ave_list_1000 = []\n",
    "n_SDM_list_1000 = []\n",
    "for eta in eta_array:\n",
    "    n_list = []\n",
    "    #eta_list.append(eta)\n",
    "    for i in range(num_trials):\n",
    "        points, m, b = data_faker_2(N, 1, 0, c=10, rand_div='no')\n",
    "        p_m, p_b, k, n = perceptron(points, eta=eta)\n",
    "        n_list.append(n)\n",
    "    n_ave = stat.mean(n_list)\n",
    "    n_SDM = stat.stdev(n_list) / math.sqrt(num_trials)\n",
    "    n_ave_list_1000.append(n_ave)\n",
    "    n_SDM_list_1000.append(n_SDM)\n",
    "N1000_plot = plt.errorbar(eta_array, n_ave_list_1000, yerr=n_SDM_list_1000, fmt='^', color='g', label='N=1000')\n",
    "plt.legend()\n",
    "\n",
    "\n",
    "plt.ylabel('Number of weight vector adjustments')\n",
    "plt.xlabel('Learning Rate')\n",
    "plt.ylim(0.0, 500)\n",
    "plt.xlim(0.0, 1.1)\n",
    "plt.show()"
   ]
  },
  {
   "cell_type": "markdown",
   "metadata": {},
   "source": [
    "### Exp 3: Number of weight vector adjustments vs Gamma (eta=0.5, c=10, N=10, 100 and 1000)"
   ]
  },
  {
   "cell_type": "code",
   "execution_count": 9,
   "metadata": {
    "collapsed": false
   },
   "outputs": [
    {
     "data": {
      "image/png": "[encoded data removed]",
      "text/plain": [
       "<matplotlib.figure.Figure at 0x7fca771f9710>"
      ]
     },
     "metadata": {},
     "output_type": "display_data"
    }
   ],
   "source": [
    "#data_faker_2(N, m, b, c=1, gamma=0.0000001, rand_div = 'yes')\n",
    "num_trials = 100\n",
    "gam = 0\n",
    "gam_array = np.arange(0.1, 3.1, 0.1)\n",
    "i = 0\n",
    "\n",
    "N = 10\n",
    "n_ave_list_10 = []\n",
    "n_SDM_list_10 = []\n",
    "for gam in gam_array:\n",
    "    n_list = []\n",
    "    for i in range(num_trials):\n",
    "        points, m, b = data_faker_2(N, 1, 0, c=10, gamma=gam, rand_div='no')\n",
    "        p_m, p_b, k, n = perceptron(points)\n",
    "        n_list.append(n)\n",
    "    n_ave = stat.mean(n_list)\n",
    "    n_SDM = stat.stdev(n_list) / math.sqrt(num_trials)\n",
    "    n_ave_list_10.append(n_ave)\n",
    "    n_SDM_list_10.append(n_SDM)\n",
    "N10_plot = plt.errorbar(gam_array, n_ave_list_10, yerr=n_SDM_list_10, fmt='o', color='r', label='N=100')\n",
    "plt.legend()\n",
    "\n",
    "\n",
    "N = 100\n",
    "n_ave_list_100 = []\n",
    "n_SDM_list_100 = []\n",
    "for gam in gam_array:\n",
    "    n_list = []\n",
    "    for i in range(num_trials):\n",
    "        points, m, b = data_faker_2(N, 1, 0, c=10, gamma=gam, rand_div='no')\n",
    "        p_m, p_b, k, n = perceptron(points)\n",
    "        n_list.append(n)\n",
    "    n_ave = stat.mean(n_list)\n",
    "    n_SDM = stat.stdev(n_list) / math.sqrt(num_trials)\n",
    "    n_ave_list_100.append(n_ave)\n",
    "    n_SDM_list_100.append(n_SDM)\n",
    "N100_plot = plt.errorbar(gam_array, n_ave_list_100, yerr=n_SDM_list_100, fmt='s', color='b', label='N=100')\n",
    "plt.legend()\n",
    "\n",
    "N = 1000\n",
    "n_ave_list_1000 = []\n",
    "n_SDM_list_1000 = []\n",
    "for gam in gam_array:\n",
    "    n_list = []\n",
    "    for i in range(num_trials):\n",
    "        points, m, b = data_faker_2(N, 1, 0, c=10, gamma=gam, rand_div='no')\n",
    "        p_m, p_b, k, n = perceptron(points)\n",
    "        n_list.append(n)\n",
    "    n_ave = stat.mean(n_list)\n",
    "    n_SDM = stat.stdev(n_list) / math.sqrt(num_trials)\n",
    "    n_ave_list_1000.append(n_ave)\n",
    "    n_SDM_list_1000.append(n_SDM)\n",
    "N1000_plot = plt.errorbar(gam_array, n_ave_list_1000, yerr=n_SDM_list_1000, fmt='^', color='g', label='N=1000')\n",
    "plt.legend()\n",
    "\n",
    "x_dummy = np.arange(0.1, 3.1, 0.1)\n",
    "y_dummy = np.empty(len(x_dummy))\n",
    "for i, x in enumerate(x_dummy):\n",
    "    y_dummy[i] = theoretical_function(0.5, gamma=x)\n",
    "plt.plot(x_dummy, y_dummy, label='Theoretical Max')\n",
    "plt.legend()\n",
    "\n",
    "plt.ylabel('Number of weight vector adjustments')\n",
    "plt.xlabel('Gamma')\n",
    "plt.ylim(0,50)\n",
    "plt.show()"
   ]
  },
  {
   "cell_type": "markdown",
   "metadata": {},
   "source": [
    "### Exp 4: Difference between points-generating line and resulting perceptron line vs Number of data points, N (eta=0.5, c=10, gamma=default)"
   ]
  },
  {
   "cell_type": "code",
   "execution_count": 12,
   "metadata": {
    "collapsed": true
   },
   "outputs": [],
   "source": [
    "def difference_between_lines(m1, b1, m2, b2):    \n",
    "    # calcualate angle between two lines:\n",
    "    if m1*m2 != -1:\n",
    "        tnAngle = (m1 - m2) / (1 + (m1*m2))\n",
    "        angle = math.atan(tnAngle)\n",
    "        angle = -1 * angle * 180/math.pi\n",
    "    else:\n",
    "        angle = 90.\n",
    "    angle_diff = math.sqrt(angle*angle)\n",
    "\n",
    "    # include difference in y-intercepts, if needed\n",
    "    # actual difference is typically negligible\n",
    "    interc_diff = math.sqrt((b2-b1)*(b2-b1))\n",
    "\n",
    "    total_diff = angle_diff + interc_diff\n",
    "    return(angle_diff, interc_diff)"
   ]
  },
  {
   "cell_type": "code",
   "execution_count": 14,
   "metadata": {
    "collapsed": false
   },
   "outputs": [
    {
     "data": {
      "text/plain": [
       "<matplotlib.text.Text at 0x7fca7721b208>"
      ]
     },
     "execution_count": 14,
     "metadata": {},
     "output_type": "execute_result"
    },
    {
     "data": {
      "image/png": "[encoded data removed]",
      "text/plain": [
       "<matplotlib.figure.Figure at 0x7fca770c9cf8>"
      ]
     },
     "metadata": {},
     "output_type": "display_data"
    }
   ],
   "source": [
    "N = 0\n",
    "N_list = []\n",
    "diff_ave_list = []\n",
    "diff_SDM_list = []\n",
    "i = 0\n",
    "num_trials = 100\n",
    "for N in range(10, 200, 10):\n",
    "    diff_list = []\n",
    "    N_list.append(N)\n",
    "    for i in range(num_trials):\n",
    "        points, m, b = data_faker_2(N, 1, 0, c=10, rand_div='no')\n",
    "        p_m, p_b, k, n = perceptron(points)\n",
    "        m_diff, b_diff = difference_between_lines(p_m, p_b, m, b)\n",
    "        diff_list.append(m_diff)\n",
    "        #scatter_plot(points, m, b)\n",
    "        #print(N, n)\n",
    "    diff_ave = stat.mean(diff_list)\n",
    "    diff_SDM = stat.stdev(diff_list) / math.sqrt(num_trials)\n",
    "    diff_ave_list.append(diff_ave)\n",
    "    diff_SDM_list.append(diff_SDM)\n",
    "    #print(N, n_ave, n_SDM)\n",
    "plt.errorbar(N_list, diff_ave_list, yerr=diff_SDM_list, fmt='o', color='b')\n",
    "plt.ylabel('Angle between generating line and perceptron line')\n",
    "plt.xlabel('Number of data points')"
   ]
  },
  {
   "cell_type": "code",
   "execution_count": null,
   "metadata": {
    "collapsed": true
   },
   "outputs": [],
   "source": []
  }
 ],
 "metadata": {
  "anaconda-cloud": {},
  "kernelspec": {
   "display_name": "Python [py35]",
   "language": "python",
   "name": "Python [py35]"
  },
  "language_info": {
   "codemirror_mode": {
    "name": "ipython",
    "version": 3
   },
   "file_extension": ".py",
   "mimetype": "text/x-python",
   "name": "python",
   "nbconvert_exporter": "python",
   "pygments_lexer": "ipython3",
   "version": "3.5.2"
  }
 },
 "nbformat": 4,
 "nbformat_minor": 0
}
