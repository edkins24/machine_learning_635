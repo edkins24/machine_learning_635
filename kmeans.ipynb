{
 "cells": [
  {
   "cell_type": "code",
   "execution_count": 4,
   "metadata": {
    "collapsed": true
   },
   "outputs": [],
   "source": [
    "%matplotlib inline\n",
    "import numpy as np\n",
    "import random as rd\n",
    "import math\n",
    "import matplotlib.pyplot as plt\n",
    "import statistics as stat"
   ]
  },
  {
   "cell_type": "code",
   "execution_count": 5,
   "metadata": {
    "collapsed": false
   },
   "outputs": [],
   "source": [
    "def kmeans(points, k,prec=0.0001,m=1):\n",
    "    l=len(points)\n",
    "    if k > l:\n",
    "        print ('The partitioning is impossible')\n",
    "    else:\n",
    "        centroids = np.empty([k,2])\n",
    "        for j in range(0, k):\n",
    "            centroids[j,:]=points[j,:]\n",
    "        while (m > prec):\n",
    "            new_centroids=np.empty([k,2])\n",
    "            list_index=[]\n",
    "            for i in range(0,l):\n",
    "                list_dist=[]\n",
    "                for j in range(0,k):\n",
    "                    dist=np.linalg.norm(points[i,:] - centroids[j,:])\n",
    "                    list_dist.append(dist)\n",
    "                min_index=np.argmin(list_dist)\n",
    "                list_index.append(min_index)\n",
    "            for j in range(0,k):\n",
    "                indeces=np.where(np.asarray(list_index)==j)[0]\n",
    "                if len(indeces) > 0:\n",
    "                    new_centroids[j,:]=sum(points[indeces])/(len(indeces))\n",
    "                else:\n",
    "                    rand_int=rd.randint(0,l-1)\n",
    "                    new_centroids[j,:]=points[rand_int,:]\n",
    "            m=np.linalg.norm(centroids - new_centroids)\n",
    "            centroids=new_centroids\n",
    "            \n",
    "        list_diameter=[]   \n",
    "        for j in range(0,k):\n",
    "            indeces=np.where(np.asarray(list_index)==j)[0]\n",
    "            diameter=math.sqrt(sum(np.linalg.norm(points[indeces]- centroids[j,:],axis=1)**2)/len(indeces))\n",
    "            list_diameter.append(diameter)\n",
    "        Matrix_DB= np.zeros([k,k])\n",
    "        for i in range(0,k):\n",
    "            for j in range(0,i-1):\n",
    "                Matrix_DB[i,j]=(list_diameter[i]+list_diameter[j])/(np.linalg.norm(centroids[i,:]-centroids[j,:]))\n",
    "            for j in range(i+1,k):\n",
    "                Matrix_DB[i,j]=(list_diameter[i]+list_diameter[j])/(np.linalg.norm(centroids[i,:]-centroids[j,:])) \n",
    "            \n",
    "        DB=sum(np.amax(Matrix_DB, axis=1))/k\n",
    "    \n",
    "    \n",
    "    return centroids, list_index, m, DB"
   ]
  },
  {
   "cell_type": "code",
   "execution_count": 8,
   "metadata": {
    "collapsed": false
   },
   "outputs": [
    {
     "data": {
      "text/plain": [
       "<matplotlib.collections.PathCollection at 0x25b76b107b8>"
      ]
     },
     "execution_count": 8,
     "metadata": {},
     "output_type": "execute_result"
    },
    {
     "data": {
      "image/png": "[encoded data removed]",
      "text/plain": [
       "<matplotlib.figure.Figure at 0x25b7623f5c0>"
      ]
     },
     "metadata": {},
     "output_type": "display_data"
    }
   ],
   "source": [
    "points=np.array([[1.,1.],[1.1,1.],[1.05,1.1],[-1.,-1.],[-1.1,-1.],[-1.,2.],[-1.1,1.9],[1.,-1.],[1.1,-1.1]])\n",
    "centro, listo,mo,DBo=kmeans(points,4)\n",
    "plt.scatter(points[:,0], points[:,1], c=listo)\n",
    "plt.scatter(centro[:,0], centro[:,1],marker='x',color='black')"
   ]
  },
  {
   "cell_type": "code",
   "execution_count": 9,
   "metadata": {
    "collapsed": false
   },
   "outputs": [
    {
     "data": {
      "text/plain": [
       "<matplotlib.collections.PathCollection at 0x25b76b786a0>"
      ]
     },
     "execution_count": 9,
     "metadata": {},
     "output_type": "execute_result"
    },
    {
     "data": {
      "image/png": "[encoded data removed]",
      "text/plain": [
       "<matplotlib.figure.Figure at 0x25b76b26668>"
      ]
     },
     "metadata": {},
     "output_type": "display_data"
    }
   ],
   "source": [
    "points=np.array([[1.,1.],[1.1,1.],[-0.5,1.3],[1.05,1.1],[-1.,-1.],[-1.1,-1.],[-1.,2.],[-1.1,1.9],[1.05,1.2], [1.,-1.],[1.1,-1.1]])\n",
    "centro, listo,mo,DBo=kmeans(points,4)\n",
    "plt.scatter(points[:,0], points[:,1], c=listo)\n",
    "plt.scatter(centro[:,0], centro[:,1],marker='x',color='black')"
   ]
  },
  {
   "cell_type": "code",
   "execution_count": 10,
   "metadata": {
    "collapsed": false
   },
   "outputs": [
    {
     "data": {
      "text/plain": [
       "<matplotlib.collections.PathCollection at 0x25b76be25c0>"
      ]
     },
     "execution_count": 10,
     "metadata": {},
     "output_type": "execute_result"
    },
    {
     "data": {
      "image/png": "[encoded data removed]",
      "text/plain": [
       "<matplotlib.figure.Figure at 0x25b76b94668>"
      ]
     },
     "metadata": {},
     "output_type": "display_data"
    }
   ],
   "source": [
    "points=np.array([[1.,1.],[1.1,1.],[-0.5,1.3],[1.05,1.1],[-1.,-1.],[-1.1,-1.],[-1.,2.],[-1.1,1.9],[1.05,1.2], [1.,-1.],[1.1,-1.1]])\n",
    "centro, listo,mo,DBo=kmeans(points,4)\n",
    "plt.scatter(points[:,0], points[:,1], c=listo)\n",
    "plt.scatter(centro[:,0], centro[:,1],marker='x',color='black')"
   ]
  },
  {
   "cell_type": "code",
   "execution_count": 11,
   "metadata": {
    "collapsed": false
   },
   "outputs": [
    {
     "data": {
      "text/plain": [
       "<matplotlib.collections.PathCollection at 0x25b76c4b550>"
      ]
     },
     "execution_count": 11,
     "metadata": {},
     "output_type": "execute_result"
    },
    {
     "data": {
      "image/png": "[encoded data removed]",
      "text/plain": [
       "<matplotlib.figure.Figure at 0x25b76bea748>"
      ]
     },
     "metadata": {},
     "output_type": "display_data"
    }
   ],
   "source": [
    "points=np.array([[1.,1.],[0,0],[0,0.6],[1.1,1.],[-0.5,1.3],[1.05,1.1],[-1.,-1.],[-1.1,-1.],[-1.,2.],[-1.1,1.9],[1.05,1.2], [1.,-1.],[1.1,-1.1]])\n",
    "centro, listo,mo,DBo=kmeans(points,4)\n",
    "plt.scatter(points[:,0], points[:,1], c=listo)\n",
    "plt.scatter(centro[:,0], centro[:,1],marker='x',color='black')\n",
    "\n",
    "\n",
    "\n",
    "\n"
   ]
  },
  {
   "cell_type": "code",
   "execution_count": null,
   "metadata": {
    "collapsed": true
   },
   "outputs": [],
   "source": []
  }
 ],
 "metadata": {
  "kernelspec": {
   "display_name": "Python [Root]",
   "language": "python",
   "name": "Python [Root]"
  },
  "language_info": {
   "codemirror_mode": {
    "name": "ipython",
    "version": 3
   },
   "file_extension": ".py",
   "mimetype": "text/x-python",
   "name": "python",
   "nbconvert_exporter": "python",
   "pygments_lexer": "ipython3",
   "version": "3.5.2"
  }
 },
 "nbformat": 4,
 "nbformat_minor": 0
}
