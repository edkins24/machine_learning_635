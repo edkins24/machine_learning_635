{
 "cells": [
  {
   "cell_type": "markdown",
   "metadata": {},
   "source": [
    "# ICS 635 HW 1 - Perceptron"
   ]
  },
  {
   "cell_type": "markdown",
   "metadata": {},
   "source": [
    "### copied from aludert's Perceptron_data_faker:"
   ]
  },
  {
   "cell_type": "code",
   "execution_count": 12,
   "metadata": {
    "collapsed": true
   },
   "outputs": [],
   "source": [
    "#%matplotlib inline\n",
    "import numpy as np\n",
    "import random as rm\n",
    "import matplotlib.pyplot as plt\n",
    "import time\n",
    "import matplotlib"
   ]
  },
  {
   "cell_type": "code",
   "execution_count": 69,
   "metadata": {
    "collapsed": false
   },
   "outputs": [],
   "source": [
    "def data_faker(N, m, b, c=1, rand_div = 'yes'):\n",
    "    \n",
    "    if rand_div == 'yes':\n",
    "        \n",
    "        slope_sign_choice = rm.random()\n",
    "        \n",
    "        if slope_sign_choice < 0.5:\n",
    "            m_sign = -1\n",
    "        else:\n",
    "            m_sign = 1\n",
    "            \n",
    "        m = m_sign * rm.random() \n",
    "        \n",
    "        intercep_sign_choice = rm.random()\n",
    "        \n",
    "        if intercep_sign_choice < 0.5:\n",
    "            b_sign = -1\n",
    "        else:\n",
    "            b_sign = 1\n",
    "            \n",
    "        b = b_sign * rm.random()\n",
    "        \n",
    "    points = np.empty([N,3])\n",
    "    \n",
    "    for i in range(N):\n",
    "        \n",
    "        x_sign_choice = rm.random()\n",
    "        \n",
    "        if x_sign_choice < 0.5:\n",
    "            x_sign = -1\n",
    "        else:\n",
    "            x_sign = 1\n",
    "            \n",
    "        x_i = x_sign * rm.random() *c\n",
    "        #---------------------------------------\n",
    "        \n",
    "        y_sign_choice = rm.random()\n",
    "        \n",
    "        if y_sign_choice < 0.5:\n",
    "            y_sign = -1\n",
    "        else:\n",
    "            y_sign = 1\n",
    "            \n",
    "        y_i = y_sign * rm.random() *c\n",
    "        #----------------------------------------\n",
    "        \n",
    "        if y_i < m*x_i+b:\n",
    "            l_i = 1\n",
    "        elif y_i > m*x_i+b:\n",
    "            l_i = -1\n",
    "            \n",
    "        points[i,0] = x_i\n",
    "        points[i,1] = y_i\n",
    "        points[i,2] = l_i\n",
    "         \n",
    "    return points, m, b\n",
    "\n",
    "def scatter_plot(points, m, b, save='yes'):\n",
    "    \n",
    "    color = np.empty([len(points)], dtype=str)\n",
    "\n",
    "    for i in range(len(points)):\n",
    "        if points[i,2] < 0:\n",
    "            color[i] = 'r'\n",
    "        else:\n",
    "            color[i] = 'b'\n",
    "            \n",
    "    step = np.amax(points[:,0]) - np.amin(points[:,0])/100\n",
    "    x_dummy = np.arange(np.amin(points[:,0]), np.amax(points[:,0])+step, step)\n",
    "    y_dummy = np.empty_like(x_dummy)\n",
    "    y_dummy[:] = np.multiply(m, x_dummy) + b\n",
    "\n",
    "    plt.scatter(points[:,0], points[:,1], c = color)\n",
    "    plt.plot(x_dummy,y_dummy)\n",
    "    N = len(points)\n",
    "    if save == 'yes':\n",
    "        plt.savefig('data_faker_p_N%s' % (str(N)), dpi=200, bbox_inches ='tight' )\n",
    "    else:\n",
    "        plt.show()\n",
    "\n",
    "def scatter_plot_vid(points, m, b, slope, intercept, n, vid_dir = './vid'):\n",
    "    \n",
    "    color = np.empty([len(points)], dtype=str)\n",
    "\n",
    "    for i in range(len(points)):\n",
    "        if points[i,2] < 0:\n",
    "            color[i] = 'r'\n",
    "        else:\n",
    "            color[i] = 'b'\n",
    "            \n",
    "    step = np.amax(points[:,0]) - np.amin(points[:,0])/100\n",
    "    x_dummy = np.arange(np.amin(points[:,0]), np.amax(points[:,0])+step/2, step)\n",
    "    y_dummy = np.empty_like(x_dummy)\n",
    "    y_dummy[:] = np.multiply(m, x_dummy) + b\n",
    "    y_dummy_p = np.empty_like(x_dummy)\n",
    "    y_dummy_p[:] = np.multiply(slope, x_dummy) + intercept\n",
    "\n",
    "    plt.scatter(points[:,0], points[:,1], c = color)\n",
    "    plt.plot(x_dummy,y_dummy)\n",
    "    plt.plot(x_dummy,y_dummy_p, c='g')\n",
    "    \n",
    "    plt.xlim([np.amin(points[:,0])-1,np.amax(points[:,0])+1])\n",
    "    plt.ylim([np.amin(points[:,1])-1,np.amax(points[:,1])+1])\n",
    "    \n",
    "    N=len(points)\n",
    "    plt.title('N = %s, Iteration %s\\n' % (str(N), str(n)))\n",
    "    plt.savefig(vid_dir+'/p_N%s_n%s' % (str(N), str(n)), dpi=200, bbox_inches ='tight' )\n",
    "    plt.close()"
   ]
  },
  {
   "cell_type": "markdown",
   "metadata": {},
   "source": [
    "### to produce points for boolean XOR case:"
   ]
  },
  {
   "cell_type": "code",
   "execution_count": 63,
   "metadata": {
    "collapsed": false
   },
   "outputs": [],
   "source": [
    "def xor():\n",
    "    \n",
    "    xor_array =  np.array([[0,1,1], [1,0,-1], [0,-1,1], [-1,0,-1]])\n",
    "    \n",
    "    return xor_array"
   ]
  },
  {
   "cell_type": "markdown",
   "metadata": {},
   "source": [
    "### test function:"
   ]
  },
  {
   "cell_type": "code",
   "execution_count": 64,
   "metadata": {
    "collapsed": true
   },
   "outputs": [],
   "source": [
    "step_function = lambda f: -1 if f <= 0 else 1"
   ]
  },
  {
   "cell_type": "markdown",
   "metadata": {},
   "source": [
    "### Perceptron Algorithm:"
   ]
  },
  {
   "cell_type": "code",
   "execution_count": 65,
   "metadata": {
    "collapsed": true
   },
   "outputs": [],
   "source": [
    "def perceptron(points, w=(0,0,0), c=0.5, n_iter=50, video='no', m=0, b=0, vid_dir = './vid'):\n",
    "    \n",
    "    test_training = np.ones([len(points),4])\n",
    "    test_training[:,1:] =  points\n",
    "    \n",
    "    misclassed = True\n",
    "    n = 0\n",
    "    num_points_tested = 0\n",
    "    slope = 0\n",
    "    intercept = 0\n",
    "    \n",
    "    while (misclassed and n < n_iter):\n",
    "        n += 1\n",
    "        wrong_line = 0\n",
    "        \n",
    "        for test_val in test_training:\n",
    "            point = test_val[:3]\n",
    "            desired = test_val[3]\n",
    "            result = np.dot(w, point)\n",
    "            f = step_function(result)\n",
    "            num_points_tested += 1\n",
    "            \n",
    "            if f != desired:\n",
    "                wrong_line += 1\n",
    "                w += c * desired * point\n",
    "                \n",
    "                if w[2] != 0:\n",
    "                    slope = -(w[1] / w[2])\n",
    "                    intercept = -(w[0] / w[2])\n",
    "                else:\n",
    "                    slope = 0\n",
    "                    intercept = 0\n",
    "                \n",
    "                if video == 'yes':\n",
    "                        scatter_plot_vid(points, m, b, \n",
    "                                         slope, intercept, \n",
    "                                         num_points_tested, vid_dir = './vid')\n",
    "        \n",
    "        if wrong_line == 0: \n",
    "            misclassed = False\n",
    "\n",
    "        \n",
    "    return slope, intercept     "
   ]
  },
  {
   "cell_type": "markdown",
   "metadata": {},
   "source": [
    "### Example of fake data:"
   ]
  },
  {
   "cell_type": "code",
   "execution_count": 70,
   "metadata": {
    "collapsed": false
   },
   "outputs": [
    {
     "data": {
      "image/png": "[encoded data removed]",
      "text/plain": [
       "<matplotlib.figure.Figure at 0x7fb8a7e7ef98>"
      ]
     },
     "metadata": {},
     "output_type": "display_data"
    }
   ],
   "source": [
    "N = 100\n",
    "points, m, b = data_faker(N, 0, 0, c=10, rand_div='yes')\n",
    "scatter_plot(points, m, b, save='yes')"
   ]
  },
  {
   "cell_type": "markdown",
   "metadata": {},
   "source": [
    "### Test of Perceptron with random data set:"
   ]
  },
  {
   "cell_type": "code",
   "execution_count": 66,
   "metadata": {
    "collapsed": false
   },
   "outputs": [],
   "source": [
    "N = 10\n",
    "points, m, b = data_faker(N, 0, 0, c=10, rand_div='yes')\n",
    "perc_m, perc_b = perceptron(points, video='yes', m=m, b=b, vid_dir = './vid')"
   ]
  },
  {
   "cell_type": "markdown",
   "metadata": {},
   "source": [
    "### Test of Perceptron with XOR case:"
   ]
  },
  {
   "cell_type": "code",
   "execution_count": 71,
   "metadata": {
    "collapsed": false
   },
   "outputs": [],
   "source": [
    "points = xor()\n",
    "perc_m, perc_b = perceptron(points, n_iter=3, video='yes', m=0, b=0, vid_dir = './vid')"
   ]
  },
  {
   "cell_type": "code",
   "execution_count": null,
   "metadata": {
    "collapsed": true
   },
   "outputs": [],
   "source": []
  }
 ],
 "metadata": {
  "kernelspec": {
   "display_name": "Python [py35]",
   "language": "python",
   "name": "Python [py35]"
  },
  "language_info": {
   "codemirror_mode": {
    "name": "ipython",
    "version": 3
   },
   "file_extension": ".py",
   "mimetype": "text/x-python",
   "name": "python",
   "nbconvert_exporter": "python",
   "pygments_lexer": "ipython3",
   "version": "3.5.2"
  }
 },
 "nbformat": 4,
 "nbformat_minor": 0
}
